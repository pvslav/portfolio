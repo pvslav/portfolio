{
 "cells": [
  {
   "cell_type": "markdown",
   "id": "ef64c80d-f07e-4dff-8812-46cec4624059",
   "metadata": {},
   "source": [
    "# Pandas fundamentals\n",
    "\n",
    "Use `SHIFT+TAB` to see help on functions here."
   ]
  },
  {
   "cell_type": "markdown",
   "id": "a8edc067-8992-40e0-ac89-480df23bb9ef",
   "metadata": {},
   "source": [
    "## Filtering and ordering\n",
    "\n",
    "Filtering, or conditional selection, produces a Series of True/False booleans based on the specified condition of each record.\n",
    "\n",
    "Examples:\n",
    "\n",
    "`df[df['column_name'] <= 100]`\n",
    "\n",
    "`df.loc[df.column_name <= 100]`\n",
    "\n",
    "\n",
    "#### Combining conditions using AND / OR logic\n",
    "\n",
    "We can use the ampersand `(&)` to bring the two conditions together and apply `'AND'` logic, or use `(|)` to apply `'OR'` logic.\n",
    "\n",
    "Example:\n",
    "\n",
    "`df.loc[(df.year>2016) & (df.brand == 'Honda')]`\n",
    "\n",
    "`df.loc[(df.year>2016) | (df.brand == 'Honda')]`\n",
    "\n",
    "\n",
    "#### Using `isin` to check if the data is in the list of values\n",
    "\n",
    "We can use `isin`\n",
    "\n",
    "`df.loc[df.brand.isin(['Honda','Nissan','Toyota'])]`\n",
    "\n",
    "\n",
    "#### Using `isnull()` and `notnull()` to find empty and non-empty data\n",
    "\n",
    "`df.loc[df.price.isnull()]`\n",
    "\n",
    "`df.loc[df.price.notnull()]`\n"
   ]
  },
  {
   "cell_type": "code",
   "execution_count": null,
   "id": "a676c9c9-6761-418d-be96-d6bcb2e887ff",
   "metadata": {},
   "outputs": [],
   "source": []
  }
 ],
 "metadata": {
  "kernelspec": {
   "display_name": "Python 3 (ipykernel)",
   "language": "python",
   "name": "python3"
  },
  "language_info": {
   "codemirror_mode": {
    "name": "ipython",
    "version": 3
   },
   "file_extension": ".py",
   "mimetype": "text/x-python",
   "name": "python",
   "nbconvert_exporter": "python",
   "pygments_lexer": "ipython3",
   "version": "3.12.3"
  }
 },
 "nbformat": 4,
 "nbformat_minor": 5
}
