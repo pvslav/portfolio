{
 "cells": [
  {
   "cell_type": "markdown",
   "id": "ef64c80d-f07e-4dff-8812-46cec4624059",
   "metadata": {},
   "source": [
    "# Pandas fundamentals\n",
    "\n",
    "Use `SHIFT+TAB` to see help on functions here."
   ]
  },
  {
   "cell_type": "markdown",
   "id": "a8edc067-8992-40e0-ac89-480df23bb9ef",
   "metadata": {},
   "source": [
    "## Filtering and ordering\n",
    "\n",
    "Filtering, or conditional selection, produces a Series of True/False booleans based on the specified condition of each record.\n",
    "\n",
    "Examples:\n",
    "\n",
    "`df[df['column_name'] <= 100]`\n",
    "\n",
    "`df.loc[df.column_name <= 100]`\n",
    "\n",
    "\n",
    "#### Combining conditions using AND / OR logic\n",
    "\n",
    "We can use the ampersand `(&)` to bring the two conditions together and apply `'AND'` logic, or use `(|)` to apply `'OR'` logic.\n",
    "\n",
    "Example:\n",
    "\n",
    "`df.loc[(df.year>2016) & (df.brand == 'Honda')]`\n",
    "\n",
    "`df.loc[(df.year>2016) | (df.brand == 'Honda')]`\n",
    "\n",
    "\n",
    "#### Using `isin` to check if the data is in the list of values\n",
    "\n",
    "We can use `isin`\n",
    "\n",
    "`df.loc[df.brand.isin(['Honda','Nissan','Toyota'])]`\n",
    "\n",
    "\n",
    "#### Using `isnull()` and `notnull()` to find empty and non-empty data\n",
    "\n",
    "`df.loc[df.price.isnull()]`\n",
    "\n",
    "`df.loc[df.price.notnull()]`\n"
   ]
  },
  {
   "cell_type": "code",
   "execution_count": null,
   "id": "a676c9c9-6761-418d-be96-d6bcb2e887ff",
   "metadata": {},
   "outputs": [],
   "source": [
    "# FILTERING\n",
    "\n",
    "# Filter by column value\n",
    "df[df['column_name'] <= 100]\n",
    "\n",
    "# Filter by checking if column values are in the list\n",
    "specific_countries = ['Bangladesh', 'Brazil']\n",
    "df[df['Country'].isin(specific_countries)]\n",
    "\n",
    "# Filter by checking if column values contains string fragment\n",
    "df[df['Country'].str.contains('United')]\n",
    "\n",
    "# Set the DataFrame index using existing column\n",
    "df2 = df.set_index('Country')\n",
    "\n",
    "## Filtering by column names. axis = 1 - indicates we search in column names\n",
    "df2.filter(items=['Continent','CCA3'], axis = 1)\n",
    "\n",
    "## Filter by column names using 'like'\n",
    "df2.filter(like = 'Pop', axis = 1) # lists all columns which names contain 'Pop'\n",
    "\n",
    "## Filtering by row names (index). axis = 0 - indicates we search in row names\n",
    "df2.filter(items=['Zimbabwe'], axis = 0)\n",
    "\n",
    "## Filter by row names using 'like'\n",
    "df2.filter(like = 'United', axis = 0)\n",
    "\n",
    "## Filter by row name\n",
    "df2.loc['Zambia']\n",
    "\n",
    "## Filter by row position (integer)\n",
    "df2.iloc[51]\n",
    "\n",
    "\n",
    "# SORTING / ORDERING\n",
    "\n",
    "# Sorting by column descending\n",
    "df[df['Rank'] < 10].sort_values(by='Rank', ascending=False)\n",
    "\n",
    "# Sorting by a few columns ascending\n",
    "df[df['Rank'] < 10].sort_values(by=['Continent','Country'], ascending=True)\n",
    "\n",
    "# Sorting by a few columns applying different ascending option to each sorted column\n",
    "df[df['Rank'] < 10].sort_values(by=['Continent','Country'], ascending=[True,False])"
   ]
  },
  {
   "cell_type": "code",
   "execution_count": null,
   "id": "ee7603ef-1b71-4305-8d56-ec43f5646e99",
   "metadata": {},
   "outputs": [],
   "source": []
  }
 ],
 "metadata": {
  "kernelspec": {
   "display_name": "Python 3 (ipykernel)",
   "language": "python",
   "name": "python3"
  },
  "language_info": {
   "codemirror_mode": {
    "name": "ipython",
    "version": 3
   },
   "file_extension": ".py",
   "mimetype": "text/x-python",
   "name": "python",
   "nbconvert_exporter": "python",
   "pygments_lexer": "ipython3",
   "version": "3.12.3"
  }
 },
 "nbformat": 4,
 "nbformat_minor": 5
}
